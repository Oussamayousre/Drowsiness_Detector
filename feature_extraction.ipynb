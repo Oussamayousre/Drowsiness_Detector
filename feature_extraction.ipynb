{
  "nbformat": 4,
  "nbformat_minor": 0,
  "metadata": {
    "colab": {
      "name": "Untitled11.ipynb",
      "provenance": [],
      "authorship_tag": "ABX9TyMWaybsLMzrqlGkB2/sdAQL",
      "include_colab_link": true
    },
    "kernelspec": {
      "name": "python3",
      "display_name": "Python 3"
    },
    "language_info": {
      "name": "python"
    }
  },
  "cells": [
    {
      "cell_type": "markdown",
      "metadata": {
        "id": "view-in-github",
        "colab_type": "text"
      },
      "source": [
        "<a href=\"https://colab.research.google.com/github/Oussamayousre/DLL/blob/main/feature_extraction.ipynb\" target=\"_parent\"><img src=\"https://colab.research.google.com/assets/colab-badge.svg\" alt=\"Open In Colab\"/></a>"
      ]
    },
    {
      "cell_type": "code",
      "metadata": {
        "colab": {
          "base_uri": "https://localhost:8080/"
        },
        "id": "yXLyxTCow4kK",
        "outputId": "8f96a037-b2ae-49e9-bff2-07b699f02a5b"
      },
      "source": [
        "from google.colab import drive\n",
        "drive.mount('/content/gdrive')"
      ],
      "execution_count": 1,
      "outputs": [
        {
          "output_type": "stream",
          "text": [
            "Mounted at /content/gdrive\n"
          ],
          "name": "stdout"
        }
      ]
    },
    {
      "cell_type": "code",
      "metadata": {
        "id": "WlYp-8wow750"
      },
      "source": [
        "from scipy.spatial import distance as dist\n",
        "from imutils.video import FileVideoStream\n",
        "from imutils.video import VideoStream\n",
        "from imutils import face_utils\n",
        "import numpy as np\n",
        "import argparse\n",
        "import imutils\n",
        "import time\n",
        "import dlib\n",
        "import cv2"
      ],
      "execution_count": 2,
      "outputs": []
    },
    {
      "cell_type": "code",
      "metadata": {
        "id": "DEGm3cZk0_sV"
      },
      "source": [
        "def eye_aspect_ratio(eye):\n",
        "\t# compute the euclidean distances between the two sets of\n",
        "\t# vertical eye landmarks (x, y)-coordinates\n",
        "\tA = dist.euclidean(eye[1], eye[5])\n",
        "\tB = dist.euclidean(eye[2], eye[4])\n",
        "\t# compute the euclidean distance between the horizontal\n",
        "\t# eye landmark (x, y)-coordinates\n",
        "\tC = dist.euclidean(eye[0], eye[3])\n",
        "\t# compute the eye aspect ratio\n",
        "\tear = (A + B) / (2.0 * C)\n",
        "\t# return the eye aspect ratio\n",
        "\treturn ear"
      ],
      "execution_count": 3,
      "outputs": []
    },
    {
      "cell_type": "code",
      "metadata": {
        "id": "zWRbu3jR0_qN"
      },
      "source": [
        "EYE_AR_THRESH = 0.3\n",
        "EYE_AR_CONSEC_FRAMES = 3\n",
        "# initialize the frame counters and the total number of blinks\n",
        "COUNTER = 0\n",
        "TOTAL = 0"
      ],
      "execution_count": 4,
      "outputs": []
    },
    {
      "cell_type": "code",
      "metadata": {
        "colab": {
          "base_uri": "https://localhost:8080/"
        },
        "id": "8kaXel119D-g",
        "outputId": "42b63ae5-6e4a-42a3-8e0c-03a62048d92c"
      },
      "source": [
        "!wget   http://dlib.net/files/shape_predictor_68_face_landmarks.dat.bz2"
      ],
      "execution_count": 5,
      "outputs": [
        {
          "output_type": "stream",
          "text": [
            "--2021-07-24 16:36:20--  http://dlib.net/files/shape_predictor_68_face_landmarks.dat.bz2\n",
            "Resolving dlib.net (dlib.net)... 107.180.26.78\n",
            "Connecting to dlib.net (dlib.net)|107.180.26.78|:80... connected.\n",
            "HTTP request sent, awaiting response... 200 OK\n",
            "Length: 64040097 (61M)\n",
            "Saving to: ‘shape_predictor_68_face_landmarks.dat.bz2’\n",
            "\n",
            "shape_predictor_68_ 100%[===================>]  61.07M  70.7MB/s    in 0.9s    \n",
            "\n",
            "2021-07-24 16:36:21 (70.7 MB/s) - ‘shape_predictor_68_face_landmarks.dat.bz2’ saved [64040097/64040097]\n",
            "\n"
          ],
          "name": "stdout"
        }
      ]
    },
    {
      "cell_type": "code",
      "metadata": {
        "id": "5UPHI31c9GDE"
      },
      "source": [
        "!bunzip2 /content/shape_predictor_68_face_landmarks.dat.bz2\n",
        "\n",
        "datFile =  \"/content/shape_predictor_68_face_landmarks.dat\""
      ],
      "execution_count": 6,
      "outputs": []
    },
    {
      "cell_type": "code",
      "metadata": {
        "id": "HGJsRDaT0_nv"
      },
      "source": [
        "detector = dlib.get_frontal_face_detector()\n",
        "predictor = dlib.shape_predictor(datFile)\n"
      ],
      "execution_count": 7,
      "outputs": []
    },
    {
      "cell_type": "code",
      "metadata": {
        "id": "5VHfcUe21TUA"
      },
      "source": [
        "(lStart, lEnd) = face_utils.FACIAL_LANDMARKS_IDXS[\"left_eye\"]\n",
        "(rStart, rEnd) = face_utils.FACIAL_LANDMARKS_IDXS[\"right_eye\"]"
      ],
      "execution_count": 8,
      "outputs": []
    },
    {
      "cell_type": "code",
      "metadata": {
        "colab": {
          "base_uri": "https://localhost:8080/"
        },
        "id": "xrjsmj9V1TRf",
        "outputId": "e8e230c0-bfb7-4186-a305-375a18e41ce7"
      },
      "source": [
        "print(\"[INFO] starting video stream thread...\")\n",
        "vs = FileVideoStream(\"/content/gdrive/MyDrive/DataBase/Fold1_part1/02/0.mov\").start()\n",
        "fileStream = True\n",
        "# vs = VideoStream(src=0).start()\n",
        "# vs = VideoStream(usePiCamera=True).start()\n",
        "# fileStream = False\n",
        "time.sleep(1.0)"
      ],
      "execution_count": 9,
      "outputs": [
        {
          "output_type": "stream",
          "text": [
            "[INFO] starting video stream thread...\n"
          ],
          "name": "stdout"
        }
      ]
    },
    {
      "cell_type": "code",
      "metadata": {
        "colab": {
          "base_uri": "https://localhost:8080/",
          "height": 360
        },
        "id": "aJ5B2WRq1TPO",
        "outputId": "9441bde4-5add-4abc-f6aa-08b1c659e95a"
      },
      "source": [
        "from google.colab.patches import cv2_imshow\n",
        "ear = []\n",
        "\n",
        "while True:\n",
        "\t# if this is a file video stream, then we need to check if\n",
        "\t# there any more frames left in the buffer to process\n",
        "\tif not vs.more():\n",
        "\t\tbreak\n",
        "\t# grab the frame from the threaded video file stream, resize\n",
        "\t# it, and convert it to grayscale\n",
        "\t# channels)\n",
        "\tframe = vs.read()\n",
        "\tframe = imutils.resize(frame, width=450)\n",
        "\tgray = cv2.cvtColor(frame, cv2.COLOR_BGR2GRAY)\n",
        "\t# detect faces in the grayscale frame\n",
        "\trects = detector(gray, 0)\n",
        "\tfor rect in rects:\n",
        "    \n",
        "\t\t# determine the facial landmarks for the face region, then\n",
        "\t\t# convert the facial landmark (x, y)-coordinates to a NumPy\n",
        "\t\t# array\n",
        "\t\tshape = predictor(gray, rect)\n",
        "\t\tshape = face_utils.shape_to_np(shape)\n",
        "\t\t# extract the left and right eye coordinates, then use the\n",
        "\t\t# coordinates to compute the eye aspect ratio for both eyes\n",
        "\t\tleftEye = shape[lStart:lEnd]\n",
        "\t\trightEye = shape[rStart:rEnd]\n",
        "\t\tleftEAR = eye_aspect_ratio(leftEye)\n",
        "\t\trightEAR = eye_aspect_ratio(rightEye)\n",
        "\t\t# average the eye aspect ratio together for both eyes\n",
        "\t\tEAR.append((leftEAR + rightEAR) / 2.0 )\n",
        "    \n",
        "\t\t# compute the convex hull for the left and right eye, then\n",
        "\t\t# visualize each of the eyes\n",
        "\t\tleftEyeHull = cv2.convexHull(leftEye)\n",
        "\t\trightEyeHull = cv2.convexHull(rightEye)\n",
        "\t\t#cv2.drawContours(frame, [leftEyeHull], -1, (0, 255, 0), 1)\n",
        "\t\t#cv2.drawContours(frame, [rightEyeHull], -1, (0, 255, 0), 1)\n",
        "\t\t# check to see if the eye aspect ratio is below the blink\n",
        "\t\t# threshold, and if so, increment the blink frame counter\n",
        "    \n",
        "\t\tif (leftEAR + rightEAR) / 2.0 < EYE_AR_THRESH:\n",
        "\t\t\tCOUNTER += 1\n",
        "\t\t# otherwise, the eye aspect ratio is not below the blink\n",
        "\t\t# threshold\n",
        "\t\telse:\n",
        "\t\t\t# if the eyes were closed for a sufficient number of\n",
        "\t\t\t# then increment the total number of blinks\n",
        "\t\t\tif COUNTER >= EYE_AR_CONSEC_FRAMES:\n",
        "\t\t\t\tTOTAL += 1\n",
        "\t\t\t# reset the eye frame counter\n",
        "\t\t\tCOUNTER = 0\n",
        "\t\t# draw the total number of blinks on the frame along with\n",
        "\t\t# the computed eye aspect ratio for the frame\n",
        "\t\t#cv2.putText(frame, \"Blinks: {}\".format(TOTAL), (10, 30),\n",
        "\t\t\t#cv2.FONT_HERSHEY_SIMPLEX, 0.7, (0, 0, 255), 2)\n",
        "\t\t#cv2.putText(frame, \"EAR: {:.2f}\".format(ear), (300, 30),\n",
        "\t\t\t#cv2.FONT_HERSHEY_SIMPLEX, 0.7, (0, 0, 255), 2)\n",
        "\t# show the frame\n",
        "\t#cv2_imshow(cv2_imshow(cv2.resize(frame, (800, 600))))\n",
        "\tkey = cv2.waitKey(1) & 0xFF\n",
        "  \n",
        "\t# if the `q` key was pressed, break from the loop\n",
        "\tif key == ord(\"q\"):\n",
        "\t\tbreak\n",
        "# do a bit of cleanup\n",
        "cv2.destroyAllWindows()\n",
        "vs.stop()"
      ],
      "execution_count": 18,
      "outputs": [
        {
          "output_type": "error",
          "ename": "AttributeError",
          "evalue": "ignored",
          "traceback": [
            "\u001b[0;31m---------------------------------------------------------------------------\u001b[0m",
            "\u001b[0;31mAttributeError\u001b[0m                            Traceback (most recent call last)",
            "\u001b[0;32m<ipython-input-18-06e744d89efa>\u001b[0m in \u001b[0;36m<module>\u001b[0;34m()\u001b[0m\n\u001b[1;32m     11\u001b[0m         \u001b[0;31m# channels)\u001b[0m\u001b[0;34m\u001b[0m\u001b[0;34m\u001b[0m\u001b[0;34m\u001b[0m\u001b[0m\n\u001b[1;32m     12\u001b[0m         \u001b[0mframe\u001b[0m \u001b[0;34m=\u001b[0m \u001b[0mvs\u001b[0m\u001b[0;34m.\u001b[0m\u001b[0mread\u001b[0m\u001b[0;34m(\u001b[0m\u001b[0;34m)\u001b[0m\u001b[0;34m\u001b[0m\u001b[0;34m\u001b[0m\u001b[0m\n\u001b[0;32m---> 13\u001b[0;31m         \u001b[0mframe\u001b[0m \u001b[0;34m=\u001b[0m \u001b[0mimutils\u001b[0m\u001b[0;34m.\u001b[0m\u001b[0mresize\u001b[0m\u001b[0;34m(\u001b[0m\u001b[0mframe\u001b[0m\u001b[0;34m,\u001b[0m \u001b[0mwidth\u001b[0m\u001b[0;34m=\u001b[0m\u001b[0;36m450\u001b[0m\u001b[0;34m)\u001b[0m\u001b[0;34m\u001b[0m\u001b[0;34m\u001b[0m\u001b[0m\n\u001b[0m\u001b[1;32m     14\u001b[0m         \u001b[0mgray\u001b[0m \u001b[0;34m=\u001b[0m \u001b[0mcv2\u001b[0m\u001b[0;34m.\u001b[0m\u001b[0mcvtColor\u001b[0m\u001b[0;34m(\u001b[0m\u001b[0mframe\u001b[0m\u001b[0;34m,\u001b[0m \u001b[0mcv2\u001b[0m\u001b[0;34m.\u001b[0m\u001b[0mCOLOR_BGR2GRAY\u001b[0m\u001b[0;34m)\u001b[0m\u001b[0;34m\u001b[0m\u001b[0;34m\u001b[0m\u001b[0m\n\u001b[1;32m     15\u001b[0m         \u001b[0;31m# detect faces in the grayscale frame\u001b[0m\u001b[0;34m\u001b[0m\u001b[0;34m\u001b[0m\u001b[0;34m\u001b[0m\u001b[0m\n",
            "\u001b[0;32m/usr/local/lib/python3.7/dist-packages/imutils/convenience.py\u001b[0m in \u001b[0;36mresize\u001b[0;34m(image, width, height, inter)\u001b[0m\n\u001b[1;32m     67\u001b[0m     \u001b[0;31m# grab the image size\u001b[0m\u001b[0;34m\u001b[0m\u001b[0;34m\u001b[0m\u001b[0;34m\u001b[0m\u001b[0m\n\u001b[1;32m     68\u001b[0m     \u001b[0mdim\u001b[0m \u001b[0;34m=\u001b[0m \u001b[0;32mNone\u001b[0m\u001b[0;34m\u001b[0m\u001b[0;34m\u001b[0m\u001b[0m\n\u001b[0;32m---> 69\u001b[0;31m     \u001b[0;34m(\u001b[0m\u001b[0mh\u001b[0m\u001b[0;34m,\u001b[0m \u001b[0mw\u001b[0m\u001b[0;34m)\u001b[0m \u001b[0;34m=\u001b[0m \u001b[0mimage\u001b[0m\u001b[0;34m.\u001b[0m\u001b[0mshape\u001b[0m\u001b[0;34m[\u001b[0m\u001b[0;34m:\u001b[0m\u001b[0;36m2\u001b[0m\u001b[0;34m]\u001b[0m\u001b[0;34m\u001b[0m\u001b[0;34m\u001b[0m\u001b[0m\n\u001b[0m\u001b[1;32m     70\u001b[0m \u001b[0;34m\u001b[0m\u001b[0m\n\u001b[1;32m     71\u001b[0m     \u001b[0;31m# if both the width and height are None, then return the\u001b[0m\u001b[0;34m\u001b[0m\u001b[0;34m\u001b[0m\u001b[0;34m\u001b[0m\u001b[0m\n",
            "\u001b[0;31mAttributeError\u001b[0m: 'NoneType' object has no attribute 'shape'"
          ]
        }
      ]
    },
    {
      "cell_type": "code",
      "metadata": {
        "id": "owi4Lp_jf9e5",
        "outputId": "84c78486-a8a5-4eb8-8c98-80fe655ff570",
        "colab": {
          "base_uri": "https://localhost:8080/"
        }
      },
      "source": [
        "ear = np.array(EAR)\n",
        "print(len(EAR))\n",
        "ear.reshape(ear.shape[0])\n",
        "np.arange(1, 20,1/len(EAR))"
      ],
      "execution_count": 44,
      "outputs": [
        {
          "output_type": "stream",
          "text": [
            "18231\n"
          ],
          "name": "stdout"
        },
        {
          "output_type": "execute_result",
          "data": {
            "text/plain": [
              "array([ 1.        ,  1.00005485,  1.0001097 , ..., 19.99983545,\n",
              "       19.9998903 , 19.99994515])"
            ]
          },
          "metadata": {
            "tags": []
          },
          "execution_count": 44
        }
      ]
    },
    {
      "cell_type": "code",
      "metadata": {
        "colab": {
          "base_uri": "https://localhost:8080/",
          "height": 282
        },
        "id": "EmRn4ecfE57D",
        "outputId": "770c3fb4-5f83-466d-9db9-611c40b14c9a"
      },
      "source": [
        "import matplotlib.pyplot as plt\n",
        "plt.plot(np.arange(1, 11,10/len(EAR)),ear, color='green', linestyle='dashed', linewidth =0.5,\n",
        "          markerfacecolor='blue', markersize=2)"
      ],
      "execution_count": 90,
      "outputs": [
        {
          "output_type": "execute_result",
          "data": {
            "text/plain": [
              "[<matplotlib.lines.Line2D at 0x7f265bd99610>]"
            ]
          },
          "metadata": {
            "tags": []
          },
          "execution_count": 90
        },
        {
          "output_type": "display_data",
          "data": {
            "image/png": "[encoded data removed]",
            "text/plain": [
              "<Figure size 432x288 with 1 Axes>"
            ]
          },
          "metadata": {
            "tags": [],
            "needs_background": "light"
          }
        }
      ]
    },
    {
      "cell_type": "code",
      "metadata": {
        "id": "WalVFmqr34h1",
        "outputId": "3b27422a-1acf-4f55-d9b1-b9634a61c232",
        "colab": {
          "base_uri": "https://localhost:8080/"
        }
      },
      "source": [
        "ear"
      ],
      "execution_count": 209,
      "outputs": [
        {
          "output_type": "execute_result",
          "data": {
            "text/plain": [
              "array([0.33368881, 0.34346101, 0.32522927, ..., 0.21999696, 0.23868087,\n",
              "       0.23374435])"
            ]
          },
          "metadata": {
            "tags": []
          },
          "execution_count": 209
        }
      ]
    },
    {
      "cell_type": "code",
      "metadata": {
        "colab": {
          "base_uri": "https://localhost:8080/"
        },
        "id": "Elq658JHR7gC",
        "outputId": "cd29de2e-1a50-4b90-cc14-49dad0b4bdf2"
      },
      "source": [
        "from scipy.signal import argrelextrema\n",
        "\n",
        "index_peak = argrelextrema(ear, np.less)\n",
        "index_peak = np.asarray(index_peak)[0]\n",
        "index_peak\n"
      ],
      "execution_count": 259,
      "outputs": [
        {
          "output_type": "execute_result",
          "data": {
            "text/plain": [
              "array([    2,     9,    13, ..., 18223, 18225, 18228])"
            ]
          },
          "metadata": {
            "tags": []
          },
          "execution_count": 259
        }
      ]
    },
    {
      "cell_type": "code",
      "metadata": {
        "id": "0cX1BQQBso1a"
      },
      "source": [
        "index_peak_blink = np.array([])\n"
      ],
      "execution_count": 271,
      "outputs": []
    },
    {
      "cell_type": "code",
      "metadata": {
        "id": "XsakAHcGU7KE"
      },
      "source": [
        "for i in index_peak : \n",
        "  \n",
        "  if EAR[i] < 0.3 : \n",
        "    \n",
        "    index_peak_blink = np.append(index_peak_blink , i)\n",
        "index_peak_blink = index_peak_blink.astype(np.int64)"
      ],
      "execution_count": 272,
      "outputs": []
    },
    {
      "cell_type": "code",
      "metadata": {
        "id": "6bDtPB2F44eN",
        "outputId": "7cf60613-f7c7-4e78-9ca5-284d9dfcf7d4",
        "colab": {
          "base_uri": "https://localhost:8080/"
        }
      },
      "source": [
        "def start_check(blink_index_list, ear) :\n",
        "  start = np.array([] , dtype=np.int64)\n",
        "  Bool = True \n",
        "  for i in blink_index_list : \n",
        "    Bool = True \n",
        "    j = i -1\n",
        "    while Bool : \n",
        "      if ear[j] <= ear[j-1] :\n",
        "        \n",
        "        j -= 1\n",
        "\n",
        "      else : \n",
        "       \n",
        "        start = np.append(start,j)\n",
        "        Bool = False \n",
        "  return start \n",
        "#start = np.array(start_check(index_peak_blink,EAR))\n",
        "start = start_check(index_peak_blink,ear)  \n",
        "start \n",
        "\n"
      ],
      "execution_count": 281,
      "outputs": [
        {
          "output_type": "execute_result",
          "data": {
            "text/plain": [
              "array([   18,    21,    23, ..., 18222, 18224, 18226])"
            ]
          },
          "metadata": {
            "tags": []
          },
          "execution_count": 281
        }
      ]
    },
    {
      "cell_type": "code",
      "metadata": {
        "id": "1bO7a5IeAfHE",
        "outputId": "eca3f792-a7d3-4fa2-ec82-17fb60c498ed",
        "colab": {
          "base_uri": "https://localhost:8080/"
        }
      },
      "source": [
        "def end_check(blink_index_list, ear) :\n",
        "  \n",
        "  end = np.array([] , dtype=np.int64)\n",
        "  Bool = True \n",
        "  for i in blink_index_list : \n",
        "    Bool = True \n",
        "    j = i+1\n",
        "    while Bool : \n",
        "      if ear[j] <= ear[j+1] :\n",
        "\n",
        "        j += 1\n",
        "\n",
        "      else : \n",
        "        end  = np.append(end , j)\n",
        "        Bool = False \n",
        "  return end \n",
        "end = end_check(index_peak_blink,ear )\n",
        "end\n",
        "  "
      ],
      "execution_count": 282,
      "outputs": [
        {
          "output_type": "execute_result",
          "data": {
            "text/plain": [
              "array([   21,    23,    27, ..., 18224, 18226, 18229])"
            ]
          },
          "metadata": {
            "tags": []
          },
          "execution_count": 282
        }
      ]
    },
    {
      "cell_type": "code",
      "metadata": {
        "id": "6O7mv6GlAfnO",
        "outputId": "f9273c99-dfab-432e-f055-341b3d75ff0e",
        "colab": {
          "base_uri": "https://localhost:8080/"
        }
      },
      "source": [
        "Duration = end - start + 1\n",
        "Duration"
      ],
      "execution_count": 283,
      "outputs": [
        {
          "output_type": "execute_result",
          "data": {
            "text/plain": [
              "array([4, 3, 5, ..., 3, 3, 4])"
            ]
          },
          "metadata": {
            "tags": []
          },
          "execution_count": 283
        }
      ]
    },
    {
      "cell_type": "code",
      "metadata": {
        "id": "c1U52FJUHZm-",
        "outputId": "54c29eb0-81b6-4f71-9755-7791724a6e0f",
        "colab": {
          "base_uri": "https://localhost:8080/"
        }
      },
      "source": [
        "Am = ear[end] - 2*ear[index_peak_blink] + ear[start] \n",
        "Ampl = Am / (end - start)\n",
        "Ampl"
      ],
      "execution_count": 284,
      "outputs": [
        {
          "output_type": "execute_result",
          "data": {
            "text/plain": [
              "array([0.03047799, 0.04594022, 0.02525445, ..., 0.00770885, 0.02103056,\n",
              "       0.01805209])"
            ]
          },
          "metadata": {
            "tags": []
          },
          "execution_count": 284
        }
      ]
    },
    {
      "cell_type": "code",
      "metadata": {
        "id": "lHNTha2RK7xq",
        "outputId": "5695346c-2631-448b-a1be-47d136637496",
        "colab": {
          "base_uri": "https://localhost:8080/"
        }
      },
      "source": [
        "Eye_Open_Speed = (ear[end] - ear[index_peak_blink])/()"
      ],
      "execution_count": 147,
      "outputs": [
        {
          "output_type": "execute_result",
          "data": {
            "text/plain": [
              "3455"
            ]
          },
          "metadata": {
            "tags": []
          },
          "execution_count": 147
        }
      ]
    },
    {
      "cell_type": "code",
      "metadata": {
        "id": "45EB1uWuHa40",
        "outputId": "24138550-3b87-47ac-a0a1-63c5f9926872",
        "colab": {
          "base_uri": "https://localhost:8080/"
        }
      },
      "source": [
        "Frames_nmbr = np.arange(1 , len(ear)+1)\n",
        "Freq = 100*(np.arange(1 , len(index_peak_blink)+1)/Frames_nmbr[index_peak_blink])\n",
        "Freq"
      ],
      "execution_count": 291,
      "outputs": [
        {
          "output_type": "execute_result",
          "data": {
            "text/plain": [
              "array([ 4.76190476,  8.69565217, 11.11111111, ..., 18.9475417 ,\n",
              "       18.95094919, 18.95331614])"
            ]
          },
          "metadata": {
            "tags": []
          },
          "execution_count": 291
        }
      ]
    },
    {
      "cell_type": "code",
      "metadata": {
        "id": "sLFcHzDweHWy"
      },
      "source": [
        ""
      ],
      "execution_count": null,
      "outputs": []
    }
  ]
}