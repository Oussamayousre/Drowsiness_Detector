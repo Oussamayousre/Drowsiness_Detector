{
  "nbformat": 4,
  "nbformat_minor": 0,
  "metadata": {
    "accelerator": "TPU",
    "colab": {
      "name": "Untitled12.ipynb",
      "provenance": [],
      "authorship_tag": "ABX9TyPgl5rLp5OHaq58DyUDeYKj",
      "include_colab_link": true
    },
    "kernelspec": {
      "display_name": "Python 3",
      "name": "python3"
    },
    "language_info": {
      "name": "python"
    }
  },
  "cells": [
    {
      "cell_type": "markdown",
      "metadata": {
        "id": "view-in-github",
        "colab_type": "text"
      },
      "source": [
        "<a href=\"https://colab.research.google.com/github/Oussamayousre/DLL/blob/version_2/drowsiness_project/Drowsiness_Detector.ipynb\" target=\"_parent\"><img src=\"https://colab.research.google.com/assets/colab-badge.svg\" alt=\"Open In Colab\"/></a>"
      ]
    },
    {
      "cell_type": "code",
      "metadata": {
        "colab": {
          "base_uri": "https://localhost:8080/"
        },
        "id": "ZNHu51A0J7Ce",
        "outputId": "1bbf5e2e-58ee-45a9-c60c-a898b22c54a0"
      },
      "source": [
        "from google.colab import drive\n",
        "drive.mount('/content/gdrive')"
      ],
      "execution_count": null,
      "outputs": [
        {
          "output_type": "stream",
          "text": [
            "Drive already mounted at /content/gdrive; to attempt to forcibly remount, call drive.mount(\"/content/gdrive\", force_remount=True).\n"
          ],
          "name": "stdout"
        }
      ]
    },
    {
      "cell_type": "code",
      "metadata": {
        "colab": {
          "base_uri": "https://localhost:8080/"
        },
        "id": "g6ef2tDyKLCz",
        "outputId": "99a200ba-b3bb-4eaa-c225-db9905fa0da0"
      },
      "source": [
        "!git clone https://github.com/rezaghoddoosian/Early-Drowsiness-Detection.git"
      ],
      "execution_count": null,
      "outputs": [
        {
          "output_type": "stream",
          "text": [
            "fatal: destination path 'Early-Drowsiness-Detection' already exists and is not an empty directory.\n"
          ],
          "name": "stdout"
        }
      ]
    },
    {
      "cell_type": "code",
      "metadata": {
        "id": "Zp7awYMoKUOK"
      },
      "source": [
        "!cp -r /content/Early-Drowsiness-Detection /content/gdrive/MyDrive"
      ],
      "execution_count": null,
      "outputs": []
    },
    {
      "cell_type": "code",
      "metadata": {
        "id": "ztbmfYi_yfuA"
      },
      "source": [
        "import tensorflow as tf\n",
        "from tensorflow.keras import datasets ,layers,models\n",
        "import matplotlib.pyplot as plt\n",
        "import numpy as np"
      ],
      "execution_count": null,
      "outputs": []
    },
    {
      "cell_type": "code",
      "metadata": {
        "id": "nalzLyH-KlpF"
      },
      "source": [
        "import numpy as np\n",
        "\n",
        "data = np.load('/content/gdrive/MyDrive/Early-Drowsiness-Detection/Labels_30_Fold1.npy')"
      ],
      "execution_count": null,
      "outputs": []
    },
    {
      "cell_type": "code",
      "metadata": {
        "colab": {
          "base_uri": "https://localhost:8080/"
        },
        "id": "cTqt1umsMN75",
        "outputId": "d37a122b-b8dd-405e-df24-ee0737b26c77"
      },
      "source": [
        "data.shape"
      ],
      "execution_count": null,
      "outputs": [
        {
          "output_type": "execute_result",
          "data": {
            "text/plain": [
              "(7379, 1)"
            ]
          },
          "metadata": {
            "tags": []
          },
          "execution_count": 31
        }
      ]
    },
    {
      "cell_type": "code",
      "metadata": {
        "id": "DrvuZhCWLMA5"
      },
      "source": [
        "arr = np.array([]).reshape(0,4)\n",
        "for i in range(1,6) : \n",
        "  data = np.load(f'/content/Early-Drowsiness-Detection/Blinks_30_Fold{i}.npy')\n",
        "  for i in range(len(data)) : \n",
        "    arr = np.vstack([arr, data[i]])\n",
        "  arr.shape\n"
      ],
      "execution_count": null,
      "outputs": []
    },
    {
      "cell_type": "code",
      "metadata": {
        "id": "3xfnvDcYW4Kv"
      },
      "source": [
        "arr = np.array([]).reshape(0,1)\n",
        "for i in range(1,6) : \n",
        "  data = np.load(f'/content/gdrive/MyDrive/Early-Drowsiness-Detection/Labels_30_Fold{i}.npy')\n",
        "  for i in range(len(data)) : \n",
        "    arr = np.vstack([arr, np.full((30,1), data[i])])\n",
        "  arr.shape"
      ],
      "execution_count": null,
      "outputs": []
    },
    {
      "cell_type": "code",
      "metadata": {
        "colab": {
          "base_uri": "https://localhost:8080/"
        },
        "id": "o_6Yu2dBLYM6",
        "outputId": "e20f01a1-3845-4803-9538-6761b4e546ff"
      },
      "source": [
        "arr.shape"
      ],
      "execution_count": null,
      "outputs": [
        {
          "output_type": "execute_result",
          "data": {
            "text/plain": [
              "(1037760, 1)"
            ]
          },
          "metadata": {
            "tags": []
          },
          "execution_count": 149
        }
      ]
    },
    {
      "cell_type": "code",
      "metadata": {
        "id": "a687DUhrR_r6"
      },
      "source": [
        "np.save('/content/gdrive/MyDrive/label_blink.npy', arr) # save\n"
      ],
      "execution_count": null,
      "outputs": []
    },
    {
      "cell_type": "code",
      "metadata": {
        "colab": {
          "base_uri": "https://localhost:8080/"
        },
        "id": "JpTYb7FNZmgY",
        "outputId": "858da51e-e02b-40dd-dfa4-afda1f21a70f"
      },
      "source": [
        "X_test_set = np.load(\"/content/gdrive/MyDrive/test_blink.npy\")\n",
        "y_test_set = np.load(\"/content/gdrive/MyDrive/label_test_blink.npy\")\n",
        "train_dataset = np.load(\"/content/gdrive/MyDrive/train_blink.npy\")\n",
        "y_Data = np.load(\"/content/gdrive/MyDrive/label_blink.npy\")\n",
        "validation_dataset = (np.load(\"/content/gdrive/MyDrive/val_blink.npy\"),np.load(\"/content/gdrive/MyDrive/labelval_blink.npy\"))\n",
        "print(train_dataset.shape)\n",
        "print(y_Data.shape)\n",
        "y_Data.shape"
      ],
      "execution_count": null,
      "outputs": [
        {
          "output_type": "stream",
          "text": [
            "(1037760, 4)\n",
            "(1037760, 1)\n"
          ],
          "name": "stdout"
        },
        {
          "output_type": "execute_result",
          "data": {
            "text/plain": [
              "(1037760, 1)"
            ]
          },
          "metadata": {
            "tags": []
          },
          "execution_count": 39
        }
      ]
    },
    {
      "cell_type": "code",
      "metadata": {
        "colab": {
          "base_uri": "https://localhost:8080/"
        },
        "id": "Zm8RRdbSiIKO",
        "outputId": "1146f6ac-fa6d-45e6-ed3c-b0956dd138b7"
      },
      "source": [
        "y_Data = y_Data.reshape(y_Data.shape[0]).astype(int)\n",
        "y_test_set = y_test_set.reshape(y_test_set.shape[0]).astype(int)\n",
        "y_Data"
      ],
      "execution_count": null,
      "outputs": [
        {
          "output_type": "execute_result",
          "data": {
            "text/plain": [
              "array([10, 10, 10, ...,  5,  5,  5])"
            ]
          },
          "metadata": {
            "tags": []
          },
          "execution_count": 40
        }
      ]
    },
    {
      "cell_type": "code",
      "metadata": {
        "id": "Mtc3TTzCcPJP"
      },
      "source": [
        "import tensorflow as tf\n",
        "from tensorflow.keras import datasets ,layers,models\n",
        "import matplotlib.pyplot as plt\n",
        "import numpy as np"
      ],
      "execution_count": null,
      "outputs": []
    },
    {
      "cell_type": "code",
      "metadata": {
        "colab": {
          "base_uri": "https://localhost:8080/"
        },
        "id": "sSLcMBwMcMZw",
        "outputId": "6c955767-f21d-4066-e08a-5cfec5904249"
      },
      "source": [
        "model = models.Sequential([\n",
        "          layers.Dense(512,activation='relu'),\n",
        "          layers.Dense(256,activation='relu'),\n",
        "          layers.Dense(128,activation='relu'),\n",
        "          layers.Dense(64,activation='relu'),\n",
        "          layers.Dense(32,activation='relu'),\n",
        "          layers.Dense(16,activation='relu'),\n",
        "          layers.Dense(11,activation='softmax'),\n",
        "\n",
        "])\n",
        "opt = tf.keras.optimizers.Adam(learning_rate=0.001)\n",
        "\n",
        "model.compile(optimizer=opt,\n",
        "            loss='sparse_categorical_crossentropy',\n",
        "            metrics=['accuracy'])\n",
        "history = model.fit(x = train_dataset,y = y_Data , validation_data=validation_dataset, epochs = 32 ,batch_size = 512 , shuffle=True)\n",
        "history\n"
      ],
      "execution_count": null,
      "outputs": [
        {
          "output_type": "stream",
          "text": [
            "Epoch 1/32\n",
            "2027/2027 [==============================] - 57s 27ms/step - loss: 0.7855 - accuracy: 0.6162 - val_loss: 0.7774 - val_accuracy: 0.6345\n",
            "Epoch 2/32\n",
            "2027/2027 [==============================] - 56s 28ms/step - loss: 0.7127 - accuracy: 0.6676 - val_loss: 0.7296 - val_accuracy: 0.6605\n",
            "Epoch 3/32\n",
            "2027/2027 [==============================] - 57s 28ms/step - loss: 0.6670 - accuracy: 0.6926 - val_loss: 0.6739 - val_accuracy: 0.6951\n",
            "Epoch 4/32\n",
            "2027/2027 [==============================] - 57s 28ms/step - loss: 0.6227 - accuracy: 0.7162 - val_loss: 0.6294 - val_accuracy: 0.7171\n",
            "Epoch 5/32\n",
            "2027/2027 [==============================] - 58s 29ms/step - loss: 0.5803 - accuracy: 0.7389 - val_loss: 0.5658 - val_accuracy: 0.7552\n",
            "Epoch 6/32\n",
            "2027/2027 [==============================] - 57s 28ms/step - loss: 0.5380 - accuracy: 0.7610 - val_loss: 0.5468 - val_accuracy: 0.7646\n",
            "Epoch 7/32\n",
            "2027/2027 [==============================] - 58s 28ms/step - loss: 0.5003 - accuracy: 0.7799 - val_loss: 0.5062 - val_accuracy: 0.7823\n",
            "Epoch 8/32\n",
            "2027/2027 [==============================] - 60s 30ms/step - loss: 0.4676 - accuracy: 0.7972 - val_loss: 0.4962 - val_accuracy: 0.7874\n",
            "Epoch 9/32\n",
            "2027/2027 [==============================] - 61s 30ms/step - loss: 0.4345 - accuracy: 0.8134 - val_loss: 0.4351 - val_accuracy: 0.8196\n",
            "Epoch 10/32\n",
            "2027/2027 [==============================] - 61s 30ms/step - loss: 0.4055 - accuracy: 0.8276 - val_loss: 0.3940 - val_accuracy: 0.8379\n",
            "Epoch 11/32\n",
            "2027/2027 [==============================] - 61s 30ms/step - loss: 0.3801 - accuracy: 0.8400 - val_loss: 0.3807 - val_accuracy: 0.8458\n",
            "Epoch 12/32\n",
            "2027/2027 [==============================] - 62s 31ms/step - loss: 0.3558 - accuracy: 0.8513 - val_loss: 0.3692 - val_accuracy: 0.8501\n",
            "Epoch 13/32\n",
            "2027/2027 [==============================] - 60s 30ms/step - loss: 0.3353 - accuracy: 0.8614 - val_loss: 0.3146 - val_accuracy: 0.8761\n",
            "Epoch 14/32\n",
            "2027/2027 [==============================] - 57s 28ms/step - loss: 0.3143 - accuracy: 0.8711 - val_loss: 0.3290 - val_accuracy: 0.8700\n",
            "Epoch 15/32\n",
            "2027/2027 [==============================] - 57s 28ms/step - loss: 0.2995 - accuracy: 0.8786 - val_loss: 0.2961 - val_accuracy: 0.8843\n",
            "Epoch 16/32\n",
            "2027/2027 [==============================] - 56s 28ms/step - loss: 0.2828 - accuracy: 0.8868 - val_loss: 0.3024 - val_accuracy: 0.8839\n",
            "Epoch 17/32\n",
            "2027/2027 [==============================] - 57s 28ms/step - loss: 0.2673 - accuracy: 0.8936 - val_loss: 0.2474 - val_accuracy: 0.9117\n",
            "Epoch 18/32\n",
            "2027/2027 [==============================] - 57s 28ms/step - loss: 0.2577 - accuracy: 0.8980 - val_loss: 0.2474 - val_accuracy: 0.9076\n",
            "Epoch 19/32\n",
            "2027/2027 [==============================] - 57s 28ms/step - loss: 0.2465 - accuracy: 0.9036 - val_loss: 0.2580 - val_accuracy: 0.9060\n",
            "Epoch 20/32\n",
            "2027/2027 [==============================] - 58s 29ms/step - loss: 0.2361 - accuracy: 0.9081 - val_loss: 0.2428 - val_accuracy: 0.9111\n",
            "Epoch 21/32\n",
            "2027/2027 [==============================] - 57s 28ms/step - loss: 0.2283 - accuracy: 0.9122 - val_loss: 0.2598 - val_accuracy: 0.9076\n",
            "Epoch 22/32\n",
            "2027/2027 [==============================] - 58s 29ms/step - loss: 0.2204 - accuracy: 0.9157 - val_loss: 0.2380 - val_accuracy: 0.9124\n",
            "Epoch 23/32\n",
            "2027/2027 [==============================] - 58s 28ms/step - loss: 0.2111 - accuracy: 0.9195 - val_loss: 0.2249 - val_accuracy: 0.9183\n",
            "Epoch 24/32\n",
            "2027/2027 [==============================] - 57s 28ms/step - loss: 0.2046 - accuracy: 0.9222 - val_loss: 0.1882 - val_accuracy: 0.9319\n",
            "Epoch 25/32\n",
            "2027/2027 [==============================] - 58s 29ms/step - loss: 0.2000 - accuracy: 0.9249 - val_loss: 0.2118 - val_accuracy: 0.9268\n",
            "Epoch 26/32\n",
            "2027/2027 [==============================] - 58s 29ms/step - loss: 0.1954 - accuracy: 0.9269 - val_loss: 0.2219 - val_accuracy: 0.9219\n",
            "Epoch 27/32\n",
            "2027/2027 [==============================] - 58s 29ms/step - loss: 0.1870 - accuracy: 0.9306 - val_loss: 0.2138 - val_accuracy: 0.9264\n",
            "Epoch 28/32\n",
            "2027/2027 [==============================] - 58s 29ms/step - loss: 0.1841 - accuracy: 0.9319 - val_loss: 0.1701 - val_accuracy: 0.9439\n",
            "Epoch 29/32\n",
            "2027/2027 [==============================] - 59s 29ms/step - loss: 0.1738 - accuracy: 0.9358 - val_loss: 0.1647 - val_accuracy: 0.9471\n",
            "Epoch 30/32\n",
            "2027/2027 [==============================] - 58s 28ms/step - loss: 0.1732 - accuracy: 0.9362 - val_loss: 0.1818 - val_accuracy: 0.9357\n",
            "Epoch 31/32\n",
            "2027/2027 [==============================] - 59s 29ms/step - loss: 0.1669 - accuracy: 0.9388 - val_loss: 0.1901 - val_accuracy: 0.9347\n",
            "Epoch 32/32\n",
            "2027/2027 [==============================] - 59s 29ms/step - loss: 0.1628 - accuracy: 0.9403 - val_loss: 0.1712 - val_accuracy: 0.9429\n"
          ],
          "name": "stdout"
        },
        {
          "output_type": "execute_result",
          "data": {
            "text/plain": [
              "<tensorflow.python.keras.callbacks.History at 0x7fef3ea8c190>"
            ]
          },
          "metadata": {
            "tags": []
          },
          "execution_count": 42
        }
      ]
    },
    {
      "cell_type": "code",
      "metadata": {
        "colab": {
          "base_uri": "https://localhost:8080/"
        },
        "id": "VjyG-8Jqvqon",
        "outputId": "2522a2c6-7e24-4dbb-ad9a-3b6ef5c12935"
      },
      "source": [
        "print(\"Evaluate on test data\")\n",
        "results = model.evaluate(x = X_test_set , y = y_test_set )\n",
        "print(\"test loss, test acc:\", results)\n",
        "print(\"Accuracy of the model is - \" , results[1]*100 , \"%\")"
      ],
      "execution_count": null,
      "outputs": [
        {
          "output_type": "stream",
          "text": [
            "Evaluate on test data\n",
            "2956/2956 [==============================] - 11s 3ms/step - loss: 0.1695 - accuracy: 0.9303\n",
            "test loss, test acc: [0.16946080327033997, 0.9302991628646851]\n",
            "Accuracy of the model is -  93.0299162864685 %\n"
          ],
          "name": "stdout"
        }
      ]
    },
    {
      "cell_type": "code",
      "metadata": {
        "colab": {
          "base_uri": "https://localhost:8080/"
        },
        "id": "EpdnVu-3N2M_",
        "outputId": "b12fc762-a36e-43d6-800a-1d188e0d13fb"
      },
      "source": [
        "\n",
        "\n",
        "#p =model.predict(r)\n",
        "#for i in range(len(p)) : \n",
        "#  print(np.argmax(p[i]))\n",
        "model.save(\"/content/gdrive/MyDrive\")\n"
      ],
      "execution_count": null,
      "outputs": [
        {
          "output_type": "stream",
          "text": [
            "INFO:tensorflow:Assets written to: /content/gdrive/MyDrive/assets\n"
          ],
          "name": "stdout"
        }
      ]
    },
    {
      "cell_type": "code",
      "metadata": {
        "colab": {
          "base_uri": "https://localhost:8080/",
          "height": 281
        },
        "id": "5wCJ9wiCdsFg",
        "outputId": "5e577230-1183-4661-810c-0d0924af6512"
      },
      "source": [
        "from matplotlib import pyplot\n",
        "\n",
        "# plot loss during training\n",
        "pyplot.subplot(211)\n",
        "pyplot.title('Loss')\n",
        "pyplot.plot(history.history['loss'], label='train')\n",
        "pyplot.plot(history.history['val_loss'], label='test')\n",
        "pyplot.legend()\n",
        "# plot accuracy during training\n",
        "pyplot.subplot(212)\n",
        "pyplot.title('Accuracy')\n",
        "pyplot.plot(history.history['accuracy'], label='train')\n",
        "pyplot.plot(history.history['val_accuracy'], label='test')\n",
        "pyplot.legend()\n",
        "pyplot.show()"
      ],
      "execution_count": null,
      "outputs": [
        {
          "output_type": "display_data",
          "data": {
            "image/png": "[encoded data removed]",
            "text/plain": [
              "<Figure size 432x288 with 2 Axes>"
            ]
          },
          "metadata": {
            "tags": []
          }
        }
      ]
    },
    {
      "cell_type": "code",
      "metadata": {
        "colab": {
          "base_uri": "https://localhost:8080/"
        },
        "id": "JNxf8rlFrq1V",
        "outputId": "001d6a68-250a-4491-9ec4-df65ddd6efa2"
      },
      "source": [
        "from sklearn.neighbors import KNeighborsClassifier\n",
        "neigh = KNeighborsClassifier(n_neighbors=3)\n",
        "neigh.fit(train_dataset, y_Data)"
      ],
      "execution_count": null,
      "outputs": [
        {
          "output_type": "execute_result",
          "data": {
            "text/plain": [
              "KNeighborsClassifier(algorithm='auto', leaf_size=30, metric='minkowski',\n",
              "                     metric_params=None, n_jobs=None, n_neighbors=3, p=2,\n",
              "                     weights='uniform')"
            ]
          },
          "metadata": {
            "tags": []
          },
          "execution_count": 157
        }
      ]
    },
    {
      "cell_type": "code",
      "metadata": {
        "colab": {
          "base_uri": "https://localhost:8080/"
        },
        "id": "PQQxxlvz3CbZ",
        "outputId": "14eb92d6-d7bf-49de-eae7-daededeb8c5b"
      },
      "source": [
        "neigh.score(X_test_set,y_test_set)"
      ],
      "execution_count": null,
      "outputs": [
        {
          "output_type": "execute_result",
          "data": {
            "text/plain": [
              "0.9996299820276985"
            ]
          },
          "metadata": {
            "tags": []
          },
          "execution_count": 159
        }
      ]
    },
    {
      "cell_type": "code",
      "metadata": {
        "colab": {
          "base_uri": "https://localhost:8080/"
        },
        "id": "bpOhMNeI3Mbn",
        "outputId": "28d248fd-eeb6-474f-ef27-50eace066767"
      },
      "source": [
        "neigh.score(validation_dataset[0], validation_dataset[1])"
      ],
      "execution_count": null,
      "outputs": [
        {
          "output_type": "execute_result",
          "data": {
            "text/plain": [
              "0.9982328733962721"
            ]
          },
          "metadata": {
            "tags": []
          },
          "execution_count": 160
        }
      ]
    },
    {
      "cell_type": "markdown",
      "metadata": {
        "id": "tV2pjuRfX9sh"
      },
      "source": [
        "## Real Time Detection"
      ]
    },
    {
      "cell_type": "code",
      "metadata": {
        "id": "qLXdpjVH3_fw"
      },
      "source": [
        "from google.colab.patches import cv2_imshow\n",
        "from scipy.spatial import distance as dist\n",
        "from imutils.video import FileVideoStream\n",
        "from scipy.signal import argrelextrema\n",
        "from imutils.video import VideoStream\n",
        "from imutils import face_utils\n",
        "import numpy as np\n",
        "import argparse\n",
        "import imutils\n",
        "import time\n",
        "import dlib\n",
        "import cv2\n",
        "import os"
      ],
      "execution_count": null,
      "outputs": []
    },
    {
      "cell_type": "code",
      "metadata": {
        "colab": {
          "background_save": true
        },
        "id": "rof6n-4qAwus"
      },
      "source": [
        "def eye_aspect_ratio(eye):\n",
        "\t# compute the euclidean distances between the two sets of\n",
        "\t# vertical eye landmarks (x, y)-coordinates\n",
        "\tA = dist.euclidean(eye[1], eye[5])\n",
        "\tB = dist.euclidean(eye[2], eye[4])\n",
        "\t# compute the euclidean distance between the horizontal\n",
        "\t# eye landmark (x, y)-coordinates\n",
        "\tC = dist.euclidean(eye[0], eye[3])\n",
        "\t# compute the eye aspect ratio\n",
        "\tear = (A + B) / (2.0 * C)\n",
        "\t# return the eye aspect ratio\n",
        "\treturn ear\n",
        "\n",
        "\n",
        "def start_check(blink_index_list, ear) :\n",
        "  start = np.array([] , dtype=np.int64)\n",
        "  Bool = True \n",
        "  for i in blink_index_list : \n",
        "    Bool = True \n",
        "    j = i -1\n",
        "    while Bool and  j > 0 : \n",
        "      if ear[j] <= ear[j-1]  :\n",
        "        j -= 1\n",
        "      else : \n",
        "        start = np.append(start,j)\n",
        "        Bool = False \n",
        "    #this condition is to make sure that we can save the end value even if it is that last value , since in the while condition\n",
        "    #we're going to stop before the last value to avoid the index out of bounds error\n",
        "    if j == 0 : \n",
        "      start  = np.append(start , j)\n",
        "  return start \n",
        "\n",
        "def end_check(blink_index_list, ear) :\n",
        "  \n",
        "  end = np.array([] , dtype=np.int64)\n",
        "  Bool = True \n",
        "  for i in blink_index_list : \n",
        "    Bool = True \n",
        "    j = i+1 \n",
        "\n",
        "    while Bool and j< len(ear)-1 : \n",
        "      if ear[j] <= ear[j+1] :\n",
        "\n",
        "        j += 1\n",
        "      else : \n",
        "        end  = np.append(end , j)\n",
        "        Bool = False \n",
        "    #this condition is to make sure that we can save the end value even if it is that last value , since in the while condition\n",
        "    #we're going to stop before the last value to avoid the index out of bounds error\n",
        "    if j == len(ear)-1 : \n",
        "      end  = np.append(end , j)\n",
        "      \n",
        "  return end  "
      ],
      "execution_count": null,
      "outputs": []
    },
    {
      "cell_type": "code",
      "metadata": {
        "id": "C5NEjaVDAzOo"
      },
      "source": [
        "EYE_AR_THRESH = 0.3\n",
        "EYE_AR_CONSEC_FRAMES = 3\n",
        "train_blink_Final_1 = np.array([]).reshape(0,4)\n",
        "labels_blink_Final_1 =  np.array([]).reshape(0,1)\n",
        "# initialize the frame counters and the total number of blinks\n",
        "COUNTER = 0\n",
        "TOTAL = 0\n",
        "EAR = []\n",
        "i = 0"
      ],
      "execution_count": null,
      "outputs": []
    },
    {
      "cell_type": "code",
      "metadata": {
        "colab": {
          "background_save": true,
          "base_uri": "https://localhost:8080/"
        },
        "id": "JJ9JrpdsA3WQ",
        "outputId": "5d68337f-7ea6-411b-8169-93d69594edb9"
      },
      "source": [
        "!wget   http://dlib.net/files/shape_predictor_68_face_landmarks.dat.bz2"
      ],
      "execution_count": null,
      "outputs": [
        {
          "output_type": "stream",
          "text": [
            "--2021-08-03 23:55:33--  http://dlib.net/files/shape_predictor_68_face_landmarks.dat.bz2\n",
            "Resolving dlib.net (dlib.net)... 107.180.26.78\n",
            "Connecting to dlib.net (dlib.net)|107.180.26.78|:80... connected.\n",
            "HTTP request sent, awaiting response... 200 OK\n",
            "Length: 64040097 (61M)\n",
            "Saving to: ‘shape_predictor_68_face_landmarks.dat.bz2.7’\n",
            "\n",
            "shape_predictor_68_ 100%[===================>]  61.07M  30.0MB/s    in 2.0s    \n",
            "\n",
            "2021-08-03 23:55:35 (30.0 MB/s) - ‘shape_predictor_68_face_landmarks.dat.bz2.7’ saved [64040097/64040097]\n",
            "\n"
          ],
          "name": "stdout"
        }
      ]
    },
    {
      "cell_type": "code",
      "metadata": {
        "colab": {
          "background_save": true,
          "base_uri": "https://localhost:8080/"
        },
        "id": "RQmdXYceA5a7",
        "outputId": "53fd2c1b-e7e9-4aea-e3df-228f1ae8c18b"
      },
      "source": [
        "!bunzip2 /content/shape_predictor_68_face_landmarks.dat.bz2\n",
        "\n",
        "datFile =  \"/content/shape_predictor_68_face_landmarks.dat\""
      ],
      "execution_count": null,
      "outputs": [
        {
          "output_type": "stream",
          "text": [
            "bunzip2: Output file /content/shape_predictor_68_face_landmarks.dat already exists.\n"
          ],
          "name": "stdout"
        }
      ]
    },
    {
      "cell_type": "code",
      "metadata": {
        "colab": {
          "background_save": true
        },
        "id": "rdwrVMLPBE_5"
      },
      "source": [
        "detector = dlib.get_frontal_face_detector()\n",
        "predictor = dlib.shape_predictor(datFile)\n"
      ],
      "execution_count": null,
      "outputs": []
    },
    {
      "cell_type": "code",
      "metadata": {
        "colab": {
          "background_save": true
        },
        "id": "ZilRtgQQBIGI"
      },
      "source": [
        "(lStart, lEnd) = face_utils.FACIAL_LANDMARKS_IDXS[\"left_eye\"]\n",
        "(rStart, rEnd) = face_utils.FACIAL_LANDMARKS_IDXS[\"right_eye\"]"
      ],
      "execution_count": null,
      "outputs": []
    },
    {
      "cell_type": "code",
      "metadata": {
        "colab": {
          "background_save": true
        },
        "id": "Qsh7rBF7BMk1"
      },
      "source": [
        "time.sleep(1.0)\n",
        "#cv2.VideoCapture(0)"
      ],
      "execution_count": null,
      "outputs": []
    },
    {
      "cell_type": "code",
      "metadata": {
        "id": "vxSw82_GFAFZ"
      },
      "source": [
        "from google.colab.patches import cv2_imshow\n",
        "vs = cv2.VideoCapture(\"/content/gdrive/MyDrive/DataBase/Fold1_part1/01/0.mov\")\n",
        "while True :\n",
        "    ret, frame = vs.read()\n",
        "    if ret == False:\n",
        "        break \n",
        "    frame = imutils.resize(frame, width=450)\n",
        " #   cv2_imshow(frame)\n",
        "\n",
        "    #frame = cv2.resize(frame, dim, interpolation = cv2.INTER_AREA)\n",
        "    gray = cv2.cvtColor(frame, cv2.COLOR_BGR2GRAY)\n",
        "    # detect faces in the grayscale frame\n",
        "    rects = detector(gray, 0)\n",
        "    print(rects)\n",
        "    for rect in rects:\n",
        "        print(1)\n",
        "        COUNTER += 1 \n",
        "        shape = predictor(gray, rect)\n",
        "        shape = face_utils.shape_to_np(shape)\n",
        "        leftEye = shape[lStart:lEnd]\n",
        "        rightEye = shape[rStart:rEnd]\n",
        "        leftEAR = eye_aspect_ratio(leftEye)\n",
        "        rightEAR = eye_aspect_ratio(rightEye)\n",
        "        EAR.append((leftEAR + rightEAR) / 2.0 )\n",
        "        leftEyeHull = cv2.convexHull(leftEye)\n",
        "        rightEyeHull = cv2.convexHull(rightEye)\n",
        "        cv2.drawContours(frame, [leftEyeHull], -1, (0, 255, 0), 1)\n",
        "        cv2.drawContours(frame, [rightEyeHull], -1, (0, 255, 0), 1)\n",
        "        cv2.putText(frame, \"EAR: {:.2f}\".format((leftEAR + rightEAR) / 2.0 ), (300, 30),\n",
        "            cv2.FONT_HERSHEY_SIMPLEX, 0.7, (0, 0, 255), 2)\n",
        "\n",
        "    if COUNTER == 50 : \n",
        "        print(10)\n",
        "        ear = np.array(EAR)\n",
        "        ear.reshape(ear.shape[0])\n",
        "        index_peak = argrelextrema(ear, np.less)\n",
        "        index_peak_blink = np.array([])\n",
        "        print(EAR)\n",
        "        for i in index_peak[0] :\n",
        "            if EAR[i] < 0.3 :\n",
        "                index_peak_blink = np.append(index_peak_blink , i)\n",
        "        index_peak_blink = index_peak_blink.astype(np.int64)   \n",
        "        start = start_check(index_peak_blink,ear) \n",
        "        #end of blinks\n",
        "        end = end_check(index_peak_blink,ear )\n",
        "        #duration of blinks\n",
        "        Duration = end - start + 1\n",
        "\n",
        "        Am = ear[end] - 2*ear[index_peak_blink] + ear[start] \n",
        "        #amplitude of blinks \n",
        "        Ampl = Am / (end - start)\n",
        "        #velocity of blinks\n",
        "        Eye_Open_Speed = (ear[end] - ear[index_peak_blink])/(end - index_peak_blink )\n",
        "        Frames_nmbr = np.arange(1 , len(ear)+1)\n",
        "        #frequency of blinks \n",
        "        Freq = 100*(np.arange(1 , len(index_peak_blink)+1)/Frames_nmbr[end])\n",
        "        feature_blink = np.column_stack((Duration, Ampl,Eye_Open_Speed,Freq))\n",
        "        result_array = model.predict(feature_blink)\n",
        "        drowsy_array = []\n",
        "        low_vigilant = []\n",
        "        for i in range(len(result_array)) :\n",
        "          \n",
        "            max = np.argmax(result_array[i])\n",
        "            if max == 10 :\n",
        "                drowsy_array.append(max)\n",
        "            elif max == 5 :  \n",
        "                low_vigilant.append(max)\n",
        "        if len(drowsy_array) > 10 : \n",
        "            \n",
        "            cv2.putText(frame, \"Fi9 \", (300, 30),\n",
        "                        cv2.FONT_HERSHEY_SIMPLEX, 0.7, (0, 0, 255), 2)\n",
        "            \n",
        "        elif len(low_vigilant) > 10 :\n",
        "              \n",
        "              cv2.putText(frame, \"Fi9 asahbe\", (300, 30),\n",
        "                        cv2.FONT_HERSHEY_SIMPLEX, 0.7, (0, 0, 255), 2)\n",
        "        else :\n",
        "              \n",
        "              cv2.putText(frame, \"nadiii a3chiri\", (300, 30),\n",
        "                        cv2.FONT_HERSHEY_SIMPLEX, 0.7, (0, 0, 255), 2)\n",
        "        COUNTER = 0\n",
        "        EAR = []\n",
        "  #  cv2_imshow(frame)\n",
        "    key = cv2.waitKey(1) & 0xFF\n",
        "    if key == ord(\"q\"):\n",
        "            break\n",
        "\n",
        "cv2.destroyAllWindows()\n",
        "  \n",
        "        \n",
        "\n",
        "\n",
        "\n"
      ],
      "execution_count": null,
      "outputs": []
    },
    {
      "cell_type": "code",
      "metadata": {
        "id": "1UOzKM4DX8Md"
      },
      "source": [
        ""
      ],
      "execution_count": null,
      "outputs": []
    }
  ]
}