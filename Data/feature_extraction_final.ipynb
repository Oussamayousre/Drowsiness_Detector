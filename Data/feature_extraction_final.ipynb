{
  "nbformat": 4,
  "nbformat_minor": 0,
  "metadata": {
    "colab": {
      "name": "Untitled11.ipynb",
      "provenance": [],
      "authorship_tag": "ABX9TyMlMrqcl/IpNWh7/QRMhzmg",
      "include_colab_link": true
    },
    "kernelspec": {
      "name": "python3",
      "display_name": "Python 3"
    },
    "language_info": {
      "name": "python"
    },
    "accelerator": "GPU"
  },
  "cells": [
    {
      "cell_type": "markdown",
      "metadata": {
        "id": "view-in-github",
        "colab_type": "text"
      },
      "source": [
        "<a href=\"https://colab.research.google.com/github/Oussamayousre/DLL/blob/version_2/drowsiness_project/feature_extraction_final.ipynb\" target=\"_parent\"><img src=\"https://colab.research.google.com/assets/colab-badge.svg\" alt=\"Open In Colab\"/></a>"
      ]
    },
    {
      "cell_type": "code",
      "metadata": {
        "colab": {
          "base_uri": "https://localhost:8080/"
        },
        "id": "yXLyxTCow4kK",
        "outputId": "83fa761c-5537-4511-8085-bc48178133b7"
      },
      "source": [
        "from google.colab import drive\n",
        "drive.mount('/content/gdrive')"
      ],
      "execution_count": null,
      "outputs": [
        {
          "output_type": "stream",
          "text": [
            "Mounted at /content/gdrive\n"
          ],
          "name": "stdout"
        }
      ]
    },
    {
      "cell_type": "code",
      "metadata": {
        "id": "yXjeLmf7dF9_"
      },
      "source": [
        "mem = []\n",
        "while True:\n",
        "    mem.append(' ' * 10**6)"
      ],
      "execution_count": null,
      "outputs": []
    },
    {
      "cell_type": "code",
      "metadata": {
        "id": "WlYp-8wow750"
      },
      "source": [
        "from google.colab.patches import cv2_imshow\n",
        "from scipy.spatial import distance as dist\n",
        "from imutils.video import FileVideoStream\n",
        "from scipy.signal import argrelextrema\n",
        "from imutils.video import VideoStream\n",
        "from imutils import face_utils\n",
        "import numpy as np\n",
        "import argparse\n",
        "import imutils\n",
        "import time\n",
        "import dlib\n",
        "import cv2\n",
        "import os"
      ],
      "execution_count": null,
      "outputs": []
    },
    {
      "cell_type": "code",
      "metadata": {
        "id": "DEGm3cZk0_sV"
      },
      "source": [
        "def eye_aspect_ratio(eye):\n",
        "\t# compute the euclidean distances between the two sets of\n",
        "\t# vertical eye landmarks (x, y)-coordinates\n",
        "\tA = dist.euclidean(eye[1], eye[5])\n",
        "\tB = dist.euclidean(eye[2], eye[4])\n",
        "\t# compute the euclidean distance between the horizontal\n",
        "\t# eye landmark (x, y)-coordinates\n",
        "\tC = dist.euclidean(eye[0], eye[3])\n",
        "\t# compute the eye aspect ratio\n",
        "\tear = (A + B) / (2.0 * C)\n",
        "\t# return the eye aspect ratio\n",
        "\treturn ear\n",
        "\n",
        "\n",
        "def start_check(blink_index_list, ear) :\n",
        "  start = np.array([] , dtype=np.int64)\n",
        "  Bool = True \n",
        "  for i in blink_index_list : \n",
        "    Bool = True \n",
        "    j = i -1\n",
        "    while Bool and  j > 0 : \n",
        "      if ear[j] <= ear[j-1]  :\n",
        "        j -= 1\n",
        "      else : \n",
        "        start = np.append(start,j)\n",
        "        Bool = False \n",
        "    #this condition is to make sure that we can save the end value even if it is that last value , since in the while condition\n",
        "    #we're going to stop before the last value to avoid the index out of bounds error\n",
        "    if j == 0 : \n",
        "      start  = np.append(start , j)\n",
        "  return start \n",
        "\n",
        "def end_check(blink_index_list, ear) :\n",
        "  \n",
        "  end = np.array([] , dtype=np.int64)\n",
        "  Bool = True \n",
        "  for i in blink_index_list : \n",
        "    Bool = True \n",
        "    j = i+1 \n",
        "\n",
        "    while Bool and j< len(ear)-1 : \n",
        "      if ear[j] <= ear[j+1] :\n",
        "\n",
        "        j += 1\n",
        "      else : \n",
        "        end  = np.append(end , j)\n",
        "        Bool = False \n",
        "    #this condition is to make sure that we can save the end value even if it is that last value , since in the while condition\n",
        "    #we're going to stop before the last value to avoid the index out of bounds error\n",
        "    if j == len(ear)-1 : \n",
        "      end  = np.append(end , j)\n",
        "      \n",
        "  return end  "
      ],
      "execution_count": null,
      "outputs": []
    },
    {
      "cell_type": "code",
      "metadata": {
        "id": "zWRbu3jR0_qN"
      },
      "source": [
        "EYE_AR_THRESH = 0.3\n",
        "EYE_AR_CONSEC_FRAMES = 3\n",
        "train_blink_Final_1 = np.array([]).reshape(0,4)\n",
        "labels_blink_Final_1 =  np.array([]).reshape(0,1)\n",
        "# initialize the frame counters and the total number of blinks\n",
        "COUNTER = 0\n",
        "TOTAL = 0\n",
        "EAR = []\n",
        "i = 0"
      ],
      "execution_count": null,
      "outputs": []
    },
    {
      "cell_type": "code",
      "metadata": {
        "colab": {
          "base_uri": "https://localhost:8080/"
        },
        "id": "8kaXel119D-g",
        "outputId": "60939419-da60-4d8e-a432-9ce0753f68d7"
      },
      "source": [
        "!wget   http://dlib.net/files/shape_predictor_68_face_landmarks.dat.bz2"
      ],
      "execution_count": null,
      "outputs": [
        {
          "output_type": "stream",
          "text": [
            "--2021-07-28 00:06:54--  http://dlib.net/files/shape_predictor_68_face_landmarks.dat.bz2\n",
            "Resolving dlib.net (dlib.net)... 107.180.26.78\n",
            "Connecting to dlib.net (dlib.net)|107.180.26.78|:80... connected.\n",
            "HTTP request sent, awaiting response... 200 OK\n",
            "Length: 64040097 (61M)\n",
            "Saving to: ‘shape_predictor_68_face_landmarks.dat.bz2’\n",
            "\n",
            "shape_predictor_68_ 100%[===================>]  61.07M  55.1MB/s    in 1.1s    \n",
            "\n",
            "2021-07-28 00:06:55 (55.1 MB/s) - ‘shape_predictor_68_face_landmarks.dat.bz2’ saved [64040097/64040097]\n",
            "\n"
          ],
          "name": "stdout"
        }
      ]
    },
    {
      "cell_type": "code",
      "metadata": {
        "id": "5UPHI31c9GDE",
        "colab": {
          "base_uri": "https://localhost:8080/"
        },
        "outputId": "526d0e3e-e22d-475a-c727-35bb2405c474"
      },
      "source": [
        "!bunzip2 /content/shape_predictor_68_face_landmarks.dat.bz2\n",
        "\n",
        "datFile =  \"/content/shape_predictor_68_face_landmarks.dat\""
      ],
      "execution_count": null,
      "outputs": [
        {
          "output_type": "stream",
          "text": [
            "bunzip2: Output file /content/shape_predictor_68_face_landmarks.dat already exists.\n"
          ],
          "name": "stdout"
        }
      ]
    },
    {
      "cell_type": "code",
      "metadata": {
        "id": "HGJsRDaT0_nv"
      },
      "source": [
        "detector = dlib.get_frontal_face_detector()\n",
        "predictor = dlib.shape_predictor(datFile)\n"
      ],
      "execution_count": null,
      "outputs": []
    },
    {
      "cell_type": "code",
      "metadata": {
        "id": "5VHfcUe21TUA"
      },
      "source": [
        "(lStart, lEnd) = face_utils.FACIAL_LANDMARKS_IDXS[\"left_eye\"]\n",
        "(rStart, rEnd) = face_utils.FACIAL_LANDMARKS_IDXS[\"right_eye\"]"
      ],
      "execution_count": null,
      "outputs": []
    },
    {
      "cell_type": "code",
      "metadata": {
        "colab": {
          "base_uri": "https://localhost:8080/"
        },
        "id": "xrjsmj9V1TRf",
        "outputId": "d36211e1-d19a-414c-b6c5-9e332754859b"
      },
      "source": [
        "print(\"[INFO] starting video stream thread...\")\n",
        "#vs = cv2.VideoCapture(\"/content/gdrive/MyDrive/DataBase/Fold1_part1/02/0.mov\")\n",
        "fileStream = True\n",
        "# vs = VideoStream(src=0).start()\n",
        "# vs = VideoStream(usePiCamera=True).start()\n",
        "# fileStream = False\n",
        "time.sleep(1.0)"
      ],
      "execution_count": null,
      "outputs": [
        {
          "output_type": "stream",
          "text": [
            "[INFO] starting video stream thread...\n"
          ],
          "name": "stdout"
        }
      ]
    },
    {
      "cell_type": "code",
      "metadata": {
        "id": "aJ5B2WRq1TPO"
      },
      "source": [
        "\n",
        "\n",
        "arr = os.listdir(\"/content/gdrive/MyDrive/DataBase/Fold1_part1\")\n",
        "\n",
        "for path_1 in arr : \n",
        "  #verify if the path is a directory or just a hidden file\n",
        "  full_path_1 = f\"/content/gdrive/MyDrive/DataBase/Fold1_part1/{path_1}\"\n",
        "  isDirectory = os.path.isdir(full_path_1)\n",
        "  if isDirectory : \n",
        "    arr_1 = os.listdir(full_path_1)\n",
        "    for path_2 in arr_1 : \n",
        "      label = int(os.path.splitext(path_2)[0])\n",
        "      full_path_2 = f\"/content/gdrive/MyDrive/DataBase/Fold1_part1/{path_1}/{path_2}\"\n",
        "      vs = cv2.VideoCapture(full_path_2)\n",
        "    #else  : break #end of array\n",
        "      i = 0\n",
        "      while True: \n",
        "          # if this is a file video stream, then we need to check if\n",
        "          # there any more frames left in the buffer to process\n",
        "          #if not vs.more():\n",
        "          #\tbreak\n",
        "          # grab the frame from the threaded video file stream, resize\n",
        "          # it, and convert it to grayscale\n",
        "          # channels)\n",
        "          #frame = vs.read()\n",
        "          ret, frame = vs.read()\n",
        "          if ret == False:\n",
        "            break \n",
        "          #print('Original Dimensions : ',frame.shape)\n",
        "          scale_percent = 60 # percent of original size\n",
        "          width = int(frame.shape[1] * scale_percent / 100)\n",
        "          height = int(frame.shape[0] * scale_percent / 100)\n",
        "          dim = (width, height)  \n",
        "          # resize image\n",
        "          frame = cv2.resize(frame, dim, interpolation = cv2.INTER_AREA)\n",
        "          i+=1\n",
        "          print(i)\n",
        "          #\n",
        "          #frame = imutils.resize(frame, width=450)\n",
        "          gray = cv2.cvtColor(frame, cv2.COLOR_BGR2GRAY)\n",
        "          # detect faces in the grayscale frame\n",
        "          rects = detector(gray, 0)\n",
        "          for rect in rects:\n",
        "          \n",
        "              # determine the facial landmarks for the face region, then\n",
        "              # convert the facial landmark (x, y)-coordinates to a NumPy\n",
        "              # array\n",
        "              shape = predictor(gray, rect)\n",
        "              shape = face_utils.shape_to_np(shape)\n",
        "              # extract the left and right eye coordinates, then use the\n",
        "              # coordinates to compute the eye aspect ratio for both eyes\n",
        "              leftEye = shape[lStart:lEnd]\n",
        "              rightEye = shape[rStart:rEnd]\n",
        "              leftEAR = eye_aspect_ratio(leftEye)\n",
        "              rightEAR = eye_aspect_ratio(rightEye)\n",
        "              # average the eye aspect ratio together for both eyes\n",
        "              EAR.append((leftEAR + rightEAR) / 2.0 )\n",
        "          \n",
        "              if (leftEAR + rightEAR) / 2.0 < EYE_AR_THRESH:\n",
        "                  COUNTER += 1\n",
        "              # otherwise, the eye aspect ratio is not below the blink\n",
        "              # threshold\n",
        "              else:\n",
        "                  # if the eyes were closed for a sufficient number of\n",
        "                  # then increment the total number of blinks\n",
        "                  if COUNTER >= EYE_AR_CONSEC_FRAMES:\n",
        "                      TOTAL += 1\n",
        "                  # reset the eye frame counter\n",
        "                  COUNTER = 0\n",
        "              # draw the total number of blinks on the frame along with\n",
        "              # the computed eye aspect ratio for the frame\n",
        "              #cv2.putText(frame, \"Blinks: {}\".format(TOTAL), (10, 30),\n",
        "              #cv2.FONT_HERSHEY_SIMPLEX, 0.7, (0, 0, 255), 2)\n",
        "              #cv2.putText(frame, \"EAR: {:.2f}\".format(ear), (300, 30),\n",
        "              #cv2.FONT_HERSHEY_SIMPLEX, 0.7, (0, 0, 255), 2)\n",
        "              # show the frame\n",
        "          #cv2_imshow(cv2_imshow(cv2.resize(frame, (800, 600))))\n",
        "      ear = np.array(EAR)\n",
        "      ear.reshape(ear.shape[0])\n",
        "      #find the min peak of blinks \n",
        "      index_peak = argrelextrema(ear, np.less)\n",
        "      index_peak = np.asarray(index_peak)[0] \n",
        "      index_peak_blink = np.array([])\n",
        "      #key = cv2.waitKey(1) & 0xFF\n",
        "      for i in index_peak :\n",
        "        if EAR[i] < 0.3 :\n",
        "          index_peak_blink = np.append(index_peak_blink , i)\n",
        "\n",
        "      index_peak_blink = index_peak_blink.astype(np.int64)\n",
        "      #start of blinks\n",
        "      start = start_check(index_peak_blink,ear) \n",
        "      #end of blinks\n",
        "      end = end_check(index_peak_blink,ear )\n",
        "      #duration of blinks\n",
        "      Duration = end - start + 1\n",
        "\n",
        "      Am = ear[end] - 2*ear[index_peak_blink] + ear[start] \n",
        "      #amplitude of blinks \n",
        "      Ampl = Am / (end - start)\n",
        "      #velocity of blinks\n",
        "      Eye_Open_Speed = (ear[end] - ear[index_peak_blink])/(end - index_peak_blink )\n",
        "          \n",
        "      Frames_nmbr = np.arange(1 , len(ear)+1)\n",
        "      #frequency of blinks \n",
        "      Freq = 100*(np.arange(1 , len(index_peak_blink)+1)/Frames_nmbr[end])  \n",
        "\n",
        "      train_blink_Final_1 = np.vstack([train_blink_Final_1, np.column_stack((Duration, Ampl,Eye_Open_Speed,Freq))])\n",
        "      labels_blink_Final_1 = np.vstack([labels_blink_Final_1, np.full((len(Freq),1), label)])\n",
        "\n",
        "#train classes \n",
        "np.save('/content/gdrive/MyDrive/DataBase/Fold1_part1/train_blink_1.npy', train_blink_Final_1) # save\n",
        "#train labels\n",
        "np.save('/content/gdrive/MyDrive/DataBase/Fold1_part1/labels_blink_1.npy', labels_blink_Final_1) # save\n",
        "\n",
        "    # if the `q` key was pressed, break from the loop\n",
        "    #if key == ord(\"q\"):\n",
        "    #\tbreak\n",
        "# do a bit of cleanup\n",
        "#cv2.destroyAllWindows()\n",
        "#vs.stop()\n"
      ],
      "execution_count": null,
      "outputs": []
    },
    {
      "cell_type": "code",
      "metadata": {
        "colab": {
          "base_uri": "https://localhost:8080/"
        },
        "id": "6QHaAbLcVZyC",
        "outputId": "fa79b937-1e4a-4510-b222-2d39d3660b9d"
      },
      "source": [
        "print(len(EAR))"
      ],
      "execution_count": null,
      "outputs": [
        {
          "output_type": "stream",
          "text": [
            "23769\n"
          ],
          "name": "stdout"
        }
      ]
    },
    {
      "cell_type": "code",
      "metadata": {
        "id": "owi4Lp_jf9e5",
        "colab": {
          "base_uri": "https://localhost:8080/"
        },
        "outputId": "ab5aacb8-e871-4aff-8eb3-1896dc835172"
      },
      "source": [
        "ear = np.array(EAR)\n",
        "print(len(EAR))\n",
        "ear.reshape(ear.shape[0])\n",
        "np.arange(1, 20,1/len(EAR))"
      ],
      "execution_count": null,
      "outputs": [
        {
          "output_type": "stream",
          "text": [
            "18229\n"
          ],
          "name": "stdout"
        },
        {
          "output_type": "execute_result",
          "data": {
            "text/plain": [
              "array([ 1.        ,  1.00005486,  1.00010972, ..., 19.99983543,\n",
              "       19.99989028, 19.99994514])"
            ]
          },
          "metadata": {
            "tags": []
          },
          "execution_count": 129
        }
      ]
    },
    {
      "cell_type": "code",
      "metadata": {
        "colab": {
          "base_uri": "https://localhost:8080/",
          "height": 282
        },
        "id": "EmRn4ecfE57D",
        "outputId": "3091eaa9-1d0c-41d3-cf68-0df25be46e20"
      },
      "source": [
        "import matplotlib.pyplot as plt\n",
        "plt.plot(np.arange(1, 11,10/len(EAR)),ear, color='green', linestyle='dashed', linewidth =0.5,\n",
        "          markerfacecolor='blue', markersize=2)"
      ],
      "execution_count": null,
      "outputs": [
        {
          "output_type": "execute_result",
          "data": {
            "text/plain": [
              "[<matplotlib.lines.Line2D at 0x7f9b4af7bb10>]"
            ]
          },
          "metadata": {
            "tags": []
          },
          "execution_count": 151
        },
        {
          "output_type": "display_data",
          "data": {
            "image/png": "[encoded data removed]",
            "text/plain": [
              "<Figure size 432x288 with 1 Axes>"
            ]
          },
          "metadata": {
            "tags": [],
            "needs_background": "light"
          }
        }
      ]
    },
    {
      "cell_type": "code",
      "metadata": {
        "id": "WalVFmqr34h1",
        "colab": {
          "base_uri": "https://localhost:8080/"
        },
        "outputId": "51496623-44f2-4ead-d409-f3c0d4173a5c"
      },
      "source": [
        "ear"
      ],
      "execution_count": null,
      "outputs": [
        {
          "output_type": "execute_result",
          "data": {
            "text/plain": [
              "array([0.32557935, 0.36006933, 0.33832019, ..., 0.22591845, 0.23827683,\n",
              "       0.23272271])"
            ]
          },
          "metadata": {
            "tags": []
          },
          "execution_count": 152
        }
      ]
    },
    {
      "cell_type": "code",
      "metadata": {
        "id": "sI3XcczYkbjr"
      },
      "source": [
        "list(ear[16::])"
      ],
      "execution_count": null,
      "outputs": []
    },
    {
      "cell_type": "markdown",
      "metadata": {
        "id": "sDJwmr7ygTZc"
      },
      "source": [
        "## in this part of code i was making sure that everything works fine  ( dim's shape , blink life cycle ... )"
      ]
    },
    {
      "cell_type": "code",
      "metadata": {
        "colab": {
          "base_uri": "https://localhost:8080/"
        },
        "id": "Elq658JHR7gC",
        "outputId": "e946af10-dd2c-4185-e761-76510fe75181"
      },
      "source": [
        "from scipy.signal import argrelextrema\n",
        "\n",
        "index_peak = argrelextrema(ear, np.less)\n",
        "index_peak = np.asarray(index_peak)[0]\n",
        "index_peak\n"
      ],
      "execution_count": null,
      "outputs": [
        {
          "output_type": "execute_result",
          "data": {
            "text/plain": [
              "(array([    2,     8,    13, ..., 18218, 18221, 18226]),)"
            ]
          },
          "metadata": {
            "tags": []
          },
          "execution_count": 212
        }
      ]
    },
    {
      "cell_type": "code",
      "metadata": {
        "id": "0cX1BQQBso1a"
      },
      "source": [
        "index_peak_blink = np.array([])\n"
      ],
      "execution_count": null,
      "outputs": []
    },
    {
      "cell_type": "code",
      "metadata": {
        "id": "XsakAHcGU7KE",
        "colab": {
          "base_uri": "https://localhost:8080/"
        },
        "outputId": "a69dde62-ffa3-4ae7-9087-6d821c2ab462"
      },
      "source": [
        "for i in index_peak : \n",
        "  \n",
        "  if EAR[i] < 0.3 : \n",
        "    \n",
        "    index_peak_blink = np.append(index_peak_blink , i)\n",
        "index_peak_blink = index_peak_blink.astype(np.int64)\n",
        "len(index_peak_blink)"
      ],
      "execution_count": null,
      "outputs": [
        {
          "output_type": "execute_result",
          "data": {
            "text/plain": [
              "3467"
            ]
          },
          "metadata": {
            "tags": []
          },
          "execution_count": 156
        }
      ]
    },
    {
      "cell_type": "code",
      "metadata": {
        "id": "6bDtPB2F44eN",
        "colab": {
          "base_uri": "https://localhost:8080/"
        },
        "outputId": "873341d8-c729-45f8-a64b-d17743b06582"
      },
      "source": [
        "def start_check(blink_index_list, ear) :\n",
        "  start = np.array([] , dtype=np.int64)\n",
        "  Bool = True \n",
        "  for i in blink_index_list : \n",
        "    Bool = True \n",
        "    j = i -1\n",
        "    while Bool : \n",
        "      if ear[j] <= ear[j-1] :\n",
        "        \n",
        "        j -= 1\n",
        "\n",
        "      else : \n",
        "       \n",
        "        start = np.append(start,j)\n",
        "        Bool = False \n",
        "  return start \n",
        "#start = np.array(start_check(index_peak_blink,EAR))\n",
        "start = start_check(index_peak_blink,ear)  \n",
        "start \n",
        "\n"
      ],
      "execution_count": null,
      "outputs": [
        {
          "output_type": "execute_result",
          "data": {
            "text/plain": [
              "array([   16,    18,    20, ..., 18215, 18220, 18224])"
            ]
          },
          "metadata": {
            "tags": []
          },
          "execution_count": 158
        }
      ]
    },
    {
      "cell_type": "code",
      "metadata": {
        "id": "1bO7a5IeAfHE",
        "colab": {
          "base_uri": "https://localhost:8080/"
        },
        "outputId": "86a98263-ca07-473f-fb23-84c3547e9c1e"
      },
      "source": [
        "def end_check(blink_index_list, ear) :\n",
        "  \n",
        "  end = np.array([] , dtype=np.int64)\n",
        "  Bool = True \n",
        "  for i in blink_index_list : \n",
        "    Bool = True \n",
        "    j = i+1\n",
        "    while Bool and j<len(ear)-1 : \n",
        "      if ear[j] <= ear[j+1] :\n",
        "\n",
        "        j += 1\n",
        "\n",
        "      else : \n",
        "        end  = np.append(end , j)\n",
        "        Bool = False \n",
        "  return end \n",
        "end = end_check(index_peak_blink,ear )\n",
        "end\n",
        "  "
      ],
      "execution_count": null,
      "outputs": [
        {
          "output_type": "execute_result",
          "data": {
            "text/plain": [
              "array([   18,    20,    24, ..., 18220, 18224, 18227])"
            ]
          },
          "metadata": {
            "tags": []
          },
          "execution_count": 159
        }
      ]
    },
    {
      "cell_type": "code",
      "metadata": {
        "id": "6O7mv6GlAfnO",
        "colab": {
          "base_uri": "https://localhost:8080/"
        },
        "outputId": "691b5656-562d-43a8-879c-926ac54650a6"
      },
      "source": [
        "Duration = end - start + 1\n",
        "Duration"
      ],
      "execution_count": null,
      "outputs": [
        {
          "output_type": "execute_result",
          "data": {
            "text/plain": [
              "array([3, 3, 5, ..., 6, 5, 4])"
            ]
          },
          "metadata": {
            "tags": []
          },
          "execution_count": 214
        }
      ]
    },
    {
      "cell_type": "code",
      "metadata": {
        "id": "c1U52FJUHZm-",
        "colab": {
          "base_uri": "https://localhost:8080/"
        },
        "outputId": "3227e5ce-5196-49ad-ee23-5cacee6a6bc0"
      },
      "source": [
        "Am = ear[end] - 2*ear[index_peak_blink] + ear[start] \n",
        "Ampl = Am / (end - start)\n",
        "Ampl"
      ],
      "execution_count": null,
      "outputs": [
        {
          "output_type": "execute_result",
          "data": {
            "text/plain": [
              "array([0.03827348, 0.01494886, 0.0059184 , ..., 0.00857088, 0.01046092,\n",
              "       0.00621951])"
            ]
          },
          "metadata": {
            "tags": []
          },
          "execution_count": 186
        }
      ]
    },
    {
      "cell_type": "code",
      "metadata": {
        "colab": {
          "base_uri": "https://localhost:8080/"
        },
        "id": "B9H_Z-c45eJ3",
        "outputId": "da1aef32-b2c7-4a79-c80e-04e22df57bf8"
      },
      "source": [
        "ear[end]"
      ],
      "execution_count": null,
      "outputs": [
        {
          "output_type": "execute_result",
          "data": {
            "text/plain": [
              "array([0.31412308, 0.29932112, 0.30457552, ..., 0.23789934, 0.2322186 ,\n",
              "       0.23827683])"
            ]
          },
          "metadata": {
            "tags": []
          },
          "execution_count": 187
        }
      ]
    },
    {
      "cell_type": "code",
      "metadata": {
        "id": "lHNTha2RK7xq"
      },
      "source": [
        "Eye_Open_Speed = (ear[end] - ear[index_peak_blink])/(end - index_peak_blink )"
      ],
      "execution_count": null,
      "outputs": []
    },
    {
      "cell_type": "code",
      "metadata": {
        "id": "45EB1uWuHa40",
        "colab": {
          "base_uri": "https://localhost:8080/"
        },
        "outputId": "3c5e8df6-d7ba-4b89-97d5-b8c23c07efd0"
      },
      "source": [
        "Frames_nmbr = np.arange(1 , len(ear)+1)\n",
        "Freq = 100*(np.arange(1 , len(index_peak_blink)+1)/Frames_nmbr[end])\n",
        "len(Freq)"
      ],
      "execution_count": null,
      "outputs": [
        {
          "output_type": "execute_result",
          "data": {
            "text/plain": [
              "3467"
            ]
          },
          "metadata": {
            "tags": []
          },
          "execution_count": 216
        }
      ]
    },
    {
      "cell_type": "code",
      "metadata": {
        "id": "sLFcHzDweHWy"
      },
      "source": [
        "train_blink_1 = np.column_stack((Duration, Ampl,Eye_Open_Speed,Freq))"
      ],
      "execution_count": null,
      "outputs": []
    },
    {
      "cell_type": "code",
      "metadata": {
        "colab": {
          "base_uri": "https://localhost:8080/"
        },
        "id": "5bTQ_GBB0Omy",
        "outputId": "3d726d92-0883-4cdf-87fe-8a93c49dc9e5"
      },
      "source": [
        "train_blink_1"
      ],
      "execution_count": null,
      "outputs": [
        {
          "output_type": "execute_result",
          "data": {
            "text/plain": [
              "array([[3.00000000e+00, 3.82734805e-02, 1.53961539e-02, 5.55555556e+00],\n",
              "       [3.00000000e+00, 1.49488558e-02, 7.54787635e-03, 1.00000000e+01],\n",
              "       [5.00000000e+00, 5.91840138e-03, 7.23200150e-03, 1.30434783e+01],\n",
              "       ...,\n",
              "       [6.00000000e+00, 8.57087878e-03, 1.24052656e-02, 1.90186069e+01],\n",
              "       [5.00000000e+00, 1.04609214e-02, 6.02715679e-03, 1.90209637e+01],\n",
              "       [4.00000000e+00, 6.21951147e-03, 1.23583851e-02, 1.90212322e+01]])"
            ]
          },
          "metadata": {
            "tags": []
          },
          "execution_count": 196
        }
      ]
    },
    {
      "cell_type": "code",
      "metadata": {
        "id": "L5wLSn0z0RlU"
      },
      "source": [
        "np.save('/content/gdrive/MyDrive/DataBase/Fold1_part1/train_blink_1.npy', train_blink_1) # save\n"
      ],
      "execution_count": null,
      "outputs": []
    },
    {
      "cell_type": "code",
      "metadata": {
        "colab": {
          "base_uri": "https://localhost:8080/"
        },
        "id": "vOPeqq0n311b",
        "outputId": "8c278b1f-4a42-4bb1-a56f-939aba049403"
      },
      "source": [
        "import os\n",
        "arr = os.listdir(\"/content/gdrive/MyDrive/DataBase/Fold1_part1/01\")\n",
        "arr"
      ],
      "execution_count": null,
      "outputs": [
        {
          "output_type": "execute_result",
          "data": {
            "text/plain": [
              "['0.mov', '5.mov', '10.MOV']"
            ]
          },
          "metadata": {
            "tags": []
          },
          "execution_count": 206
        }
      ]
    },
    {
      "cell_type": "code",
      "metadata": {
        "colab": {
          "base_uri": "https://localhost:8080/"
        },
        "id": "oeBnfzGb-XYu",
        "outputId": "07c1faf8-84fa-4213-c8d9-a1ee1ceaf6c5"
      },
      "source": [
        "\n"
      ],
      "execution_count": null,
      "outputs": [
        {
          "output_type": "stream",
          "text": [
            "['/content/06', '/content/03', '/content/05', '/content/04', '/content/01', '/content/02', '/content/.ipynb_checkpoints']\n"
          ],
          "name": "stdout"
        }
      ]
    },
    {
      "cell_type": "code",
      "metadata": {
        "id": "LYFZYpwP-8YP"
      },
      "source": [
        "arr = os.listdir(\"/content/gdrive/MyDrive/DataBase/Fold1_part1\")\n",
        "\n",
        "for path in arr : \n",
        "  arr1 = os.listdir(f\"/content/gdrive/MyDrive/DataBase/Fold1_part1/{path}\")\n",
        "  print(arr)"
      ],
      "execution_count": null,
      "outputs": []
    },
    {
      "cell_type": "code",
      "metadata": {
        "id": "tWu54OVIAWRQ"
      },
      "source": [
        "import os\n",
        " \n",
        "dir = '0.mov'\n",
        "print(int(os.path.splitext(dir)[0]))"
      ],
      "execution_count": null,
      "outputs": []
    },
    {
      "cell_type": "code",
      "metadata": {
        "id": "iLXdx5eBENI-"
      },
      "source": [
        "a = np.array([])\n",
        "a.reshape(0,4)"
      ],
      "execution_count": null,
      "outputs": []
    },
    {
      "cell_type": "code",
      "metadata": {
        "id": "_RktK9y_elAi",
        "colab": {
          "base_uri": "https://localhost:8080/"
        },
        "outputId": "4c6c4c7b-21f6-4eb4-e08a-407d4a7f3ef4"
      },
      "source": [
        "import numpy as np \n",
        "arra = np.array([[1, 2, 3,4]])\n",
        "a = np.array([]).reshape(0,4)\n",
        "\n",
        "np.vstack([a,arra])\n"
      ],
      "execution_count": null,
      "outputs": [
        {
          "output_type": "execute_result",
          "data": {
            "text/plain": [
              "array([[1., 2., 3., 4.]])"
            ]
          },
          "metadata": {
            "tags": []
          },
          "execution_count": 11
        }
      ]
    },
    {
      "cell_type": "code",
      "metadata": {
        "id": "aKHuMW4Ze_97",
        "colab": {
          "base_uri": "https://localhost:8080/"
        },
        "outputId": "09d31d2f-6567-4dc1-a750-f913a15504cb"
      },
      "source": [
        "xs = np.array([[1,2,3,4,5],[10,20,30,40,50]])\n",
        "ys = np.array([], dtype=np.int64).reshape(0,5)\n",
        "np.vstack([ys, xs])"
      ],
      "execution_count": null,
      "outputs": [
        {
          "output_type": "execute_result",
          "data": {
            "text/plain": [
              "array([[1, 2, 3, 4, 5]])"
            ]
          },
          "metadata": {
            "tags": []
          },
          "execution_count": 6
        }
      ]
    },
    {
      "cell_type": "code",
      "metadata": {
        "id": "oVapBGTbf-rT"
      },
      "source": [
        ""
      ],
      "execution_count": null,
      "outputs": []
    }
  ]
}